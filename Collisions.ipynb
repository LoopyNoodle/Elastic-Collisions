{
 "cells": [
  {
   "cell_type": "code",
   "execution_count": 1,
   "metadata": {},
   "outputs": [],
   "source": [
    "# Importing libraries\n",
    "\n",
    "import numpy as np\n",
    "import matplotlib.pyplot as plt"
   ]
  },
  {
   "cell_type": "code",
   "execution_count": 2,
   "metadata": {},
   "outputs": [],
   "source": [
    "# Use a function to calculate position as a function of time\n",
    "def position(pos, vel, t):\n",
    "    return pos + vel*t"
   ]
  },
  {
   "cell_type": "code",
   "execution_count": 31,
   "metadata": {},
   "outputs": [],
   "source": [
    "x0_1 = 5 # Initial position of the first ball\n",
    "x0_2 = -5 # Initial position of the second ball\n",
    "x0 = [x0_1, x0_2] # Initial positions before collision"
   ]
  },
  {
   "cell_type": "code",
   "execution_count": 35,
   "metadata": {},
   "outputs": [],
   "source": [
    "v0_1 = 1 # Initial velocity of the first ball (at rest)\n",
    "v0_2 = 2 # Initial velocity of the second ball\n",
    "v0 = np.array([v0_1,v0_2]) # Array of initial velocities before collision"
   ]
  },
  {
   "cell_type": "code",
   "execution_count": 36,
   "metadata": {},
   "outputs": [
    {
     "name": "stdout",
     "output_type": "stream",
     "text": [
      "[[0. 1.]\n",
      " [1. 0.]]\n"
     ]
    }
   ],
   "source": [
    "# Masses of the two balls\n",
    "m1 = 3\n",
    "m2 = 3\n",
    "\n",
    "msum = m1 + m2\n",
    "mdiff = m1 - m2\n",
    "\n",
    "mmatrix = np.array([[mdiff/msum, 2*m2/msum], [2*m1/msum, -mdiff/msum]]) # Mass matrix\n",
    "print(mmatrix)"
   ]
  },
  {
   "cell_type": "code",
   "execution_count": 37,
   "metadata": {},
   "outputs": [
    {
     "name": "stdout",
     "output_type": "stream",
     "text": [
      "Velocity of the first ball after collision:  2.0\n",
      "Velocity of the second ball after collision:  1.0\n"
     ]
    }
   ],
   "source": [
    "v = np.dot(mmatrix,v0)\n",
    "print('Velocity of the first ball after collision: ', v[0])\n",
    "print('Velocity of the second ball after collision: ', v[1])"
   ]
  },
  {
   "cell_type": "code",
   "execution_count": 38,
   "metadata": {},
   "outputs": [
    {
     "name": "stdout",
     "output_type": "stream",
     "text": [
      "Collision Time:  10.0 s\n"
     ]
    }
   ],
   "source": [
    "# Collision Time\n",
    "ctime = (x0[0] - x0[1])/(v0[1] - v0[0])\n",
    "print('Collision Time: ', round(ctime, 2),'s')"
   ]
  },
  {
   "cell_type": "code",
   "execution_count": 39,
   "metadata": {},
   "outputs": [
    {
     "name": "stdout",
     "output_type": "stream",
     "text": [
      "[15. 15.]\n"
     ]
    }
   ],
   "source": [
    "# Collsion Position\n",
    "cpos = position(x0, v0, ctime)\n",
    "print(cpos)"
   ]
  },
  {
   "cell_type": "code",
   "execution_count": 42,
   "metadata": {},
   "outputs": [],
   "source": [
    "# Tracking Trajectory\n",
    "steps = 100\n",
    "\n",
    "time = np.linspace(0, 2*ctime, steps)\n",
    "\n",
    "pos1 = []\n",
    "pos2 = []\n",
    "\n",
    "for t in time:\n",
    "    if t < ctime:\n",
    "        pos1_t = position(x0_1,v0_1,t)\n",
    "        pos2_t = position(x0_2,v0_2,t)\n",
    "    else:\n",
    "        pos1_t = position(cpos[0], v[0], t - ctime)\n",
    "        pos2_t = position(cpos[1], v[1], t - ctime)\n",
    "    pos1.append(pos1_t)\n",
    "    pos2.append(pos2_t)"
   ]
  },
  {
   "cell_type": "code",
   "execution_count": 43,
   "metadata": {},
   "outputs": [
    {
     "data": {
      "text/plain": [
       "<matplotlib.legend.Legend at 0x6ffff501d450>"
      ]
     },
     "execution_count": 43,
     "metadata": {},
     "output_type": "execute_result"
    },
    {
     "data": {
      "image/png": "[encoded data removed]",
      "text/plain": [
       "<Figure size 432x288 with 1 Axes>"
      ]
     },
     "metadata": {
      "needs_background": "light"
     },
     "output_type": "display_data"
    }
   ],
   "source": [
    "# Plotting\n",
    "plt.plot(time, pos1)\n",
    "plt.plot(time, pos2)\n",
    "plt.title('1-D Elastic Collision')\n",
    "plt.xlabel('t (s)')\n",
    "plt.ylabel('x (cm)')\n",
    "plt.legend(['Ball #1','Ball #2'])"
   ]
  }
 ],
 "metadata": {
  "kernelspec": {
   "display_name": "Python 3",
   "language": "python",
   "name": "python3"
  },
  "language_info": {
   "codemirror_mode": {
    "name": "ipython",
    "version": 3
   },
   "file_extension": ".py",
   "mimetype": "text/x-python",
   "name": "python",
   "nbconvert_exporter": "python",
   "pygments_lexer": "ipython3",
   "version": "3.7.10"
  }
 },
 "nbformat": 4,
 "nbformat_minor": 4
}
